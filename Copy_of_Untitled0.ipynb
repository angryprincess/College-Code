{
  "nbformat": 4,
  "nbformat_minor": 0,
  "metadata": {
    "colab": {
      "provenance": [],
      "authorship_tag": "ABX9TyMWUahOgOMi5ItpoKDGuySk",
      "include_colab_link": true
    },
    "kernelspec": {
      "name": "python3",
      "display_name": "Python 3"
    },
    "language_info": {
      "name": "python"
    }
  },
  "cells": [
    {
      "cell_type": "markdown",
      "metadata": {
        "id": "view-in-github",
        "colab_type": "text"
      },
      "source": [
        "<a href=\"https://colab.research.google.com/github/angryprincess/College-Code/blob/main/Copy_of_Untitled0.ipynb\" target=\"_parent\"><img src=\"https://colab.research.google.com/assets/colab-badge.svg\" alt=\"Open In Colab\"/></a>"
      ]
    },
    {
      "cell_type": "code",
      "execution_count": null,
      "metadata": {
        "colab": {
          "base_uri": "https://localhost:8080/"
        },
        "id": "cE3MHm925q-Z",
        "outputId": "753032d5-07f2-41ee-9a87-9991bbd0ca55"
      },
      "outputs": [
        {
          "output_type": "stream",
          "name": "stdout",
          "text": [
            "Enter the number of rows: 5\n",
            "* \n",
            "* * \n",
            "* * * \n",
            "* * * * \n",
            "* * * * * \n",
            "* * * * \n",
            "* * * \n",
            "* * \n",
            "* \n"
          ]
        }
      ],
      "source": [
        "n=int(input(\"Enter the number of rows: \"))\n",
        "for row in range(n):\n",
        "  for column in range(row+1):\n",
        "    print(\"*\", end=\" \")\n",
        "  print()\n",
        "for row in range(n-1, 0, -1):\n",
        "  for column in range(1, row+1):\n",
        "    print(\"*\", end=\" \")\n",
        "  print()"
      ]
    },
    {
      "cell_type": "code",
      "source": [
        "\n",
        "n=int(input(\"Enter the number of rows: \"))\n",
        "'''for row in range(n):\n",
        "  for column in range(row+1):\n",
        "    print(\" \", end=\" \")\n",
        "  for column in range(row, n):\n",
        "    print(\"*\", end=\" \")\n",
        "  print()'''\n",
        "for row in range(n):\n",
        "  for column in range(row+1):\n",
        "    print(\" \", end=\" \")\n",
        "  for column in range(row, n):\n",
        "    print(\"*\", end=\" \")\n",
        "  print()   "
      ],
      "metadata": {
        "colab": {
          "base_uri": "https://localhost:8080/"
        },
        "id": "QfzyetQSEcRy",
        "outputId": "4bdc9d3c-055e-4183-aa14-202b9b099c3c"
      },
      "execution_count": null,
      "outputs": [
        {
          "output_type": "stream",
          "name": "stdout",
          "text": [
            "Enter the number of rows: 5\n",
            "  * * * * * \n",
            "    * * * * \n",
            "      * * * \n",
            "        * * \n",
            "          * \n"
          ]
        }
      ]
    },
    {
      "cell_type": "code",
      "source": [
        "\n",
        "n=int(input(\"Enter the number of rows: \"))\n",
        "for row in range(n):\n",
        "  for column in range(row+1):\n",
        "    print(\"*\", end=\" \")\n",
        "  print()\n",
        "for row in range(n-1, 0, -1):\n",
        "  for column in range(1, row+1):\n",
        "    print(\"*\", end=\" \")\n",
        "  print()   "
      ],
      "metadata": {
        "colab": {
          "base_uri": "https://localhost:8080/"
        },
        "id": "vUlj-5Wp_KwD",
        "outputId": "55bc6b8b-4f8d-49e5-b5b5-dda5b4082ba3"
      },
      "execution_count": null,
      "outputs": [
        {
          "output_type": "stream",
          "name": "stdout",
          "text": [
            "Enter the number of rows: 5\n",
            "* \n",
            "* * \n",
            "* * * \n",
            "* * * * \n",
            "* * * * * \n",
            "* * * * \n",
            "* * * \n",
            "* * \n",
            "* \n"
          ]
        }
      ]
    },
    {
      "cell_type": "code",
      "source": [
        "n=int(input(\"Enter the number of rows: \"))\n",
        "for row in range(n):\n",
        "  for column in range(n):\n",
        "    if(row==column or row+column==n-1 or column==0 or column==n-1):\n",
        "      print(\"*\", end=\" \")\n",
        "    else:\n",
        "      print(\" \", end=\" \")\n",
        "  print()"
      ],
      "metadata": {
        "colab": {
          "base_uri": "https://localhost:8080/"
        },
        "id": "trHdYL2Ef5Ua",
        "outputId": "66fa32ca-85c6-4714-a408-79901ced10da"
      },
      "execution_count": 1,
      "outputs": [
        {
          "output_type": "stream",
          "name": "stdout",
          "text": [
            "Enter the number of rows: 8\n",
            "*             * \n",
            "* *         * * \n",
            "*   *     *   * \n",
            "*     * *     * \n",
            "*     * *     * \n",
            "*   *     *   * \n",
            "* *         * * \n",
            "*             * \n"
          ]
        }
      ]
    }
  ]
}